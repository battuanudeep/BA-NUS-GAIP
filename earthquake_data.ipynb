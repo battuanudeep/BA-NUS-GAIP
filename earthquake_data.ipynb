{
  "nbformat": 4,
  "nbformat_minor": 0,
  "metadata": {
    "colab": {
      "name": "earthquake_data.ipynb",
      "provenance": [],
      "collapsed_sections": [],
      "include_colab_link": true
    },
    "kernelspec": {
      "name": "python3",
      "display_name": "Python 3"
    }
  },
  "cells": [
    {
      "cell_type": "markdown",
      "metadata": {
        "id": "view-in-github",
        "colab_type": "text"
      },
      "source": [
        "<a href=\"https://colab.research.google.com/github/battuanudeep/BA-NUS-GAIP/blob/master/earthquake_data.ipynb\" target=\"_parent\"><img src=\"https://colab.research.google.com/assets/colab-badge.svg\" alt=\"Open In Colab\"/></a>"
      ]
    },
    {
      "cell_type": "code",
      "metadata": {
        "id": "y73CIZbpHYPP",
        "colab_type": "code",
        "outputId": "2052abee-ede1-4f96-83c3-189fb7bbdd76",
        "colab": {
          "base_uri": "https://localhost:8080/",
          "height": 33
        }
      },
      "source": [
        "from google.colab import drive\n",
        "drive.mount ('/gdrive')"
      ],
      "execution_count": 56,
      "outputs": [
        {
          "output_type": "stream",
          "text": [
            "Drive already mounted at /gdrive; to attempt to forcibly remount, call drive.mount(\"/gdrive\", force_remount=True).\n"
          ],
          "name": "stdout"
        }
      ]
    },
    {
      "cell_type": "code",
      "metadata": {
        "id": "LXDp1E54HshV",
        "colab_type": "code",
        "colab": {}
      },
      "source": [
        "import pandas as pd\n",
        "import numpy as np\n",
        "df=pd.read_csv('/gdrive/My Drive/queryok.csv')"
      ],
      "execution_count": 0,
      "outputs": []
    },
    {
      "cell_type": "code",
      "metadata": {
        "id": "uYDvsFUnHsks",
        "colab_type": "code",
        "colab": {}
      },
      "source": [
        "df=df.drop(['nst'],axis=1)\n",
        "df=df.drop(['id'],axis=1)\n",
        "df=df.drop(['updated'],axis=1)"
      ],
      "execution_count": 0,
      "outputs": []
    },
    {
      "cell_type": "code",
      "metadata": {
        "id": "ZLajvk_CUhDE",
        "colab_type": "code",
        "colab": {}
      },
      "source": [
        "df=df.dropna(subset = ['latitude', 'longitude'])"
      ],
      "execution_count": 0,
      "outputs": []
    },
    {
      "cell_type": "code",
      "metadata": {
        "id": "95QVS41yVX_w",
        "colab_type": "code",
        "outputId": "ea45ac87-b0a5-4499-b274-aa1300b9df8a",
        "colab": {
          "base_uri": "https://localhost:8080/",
          "height": 245
        }
      },
      "source": [
        "df[['Date','Time']] = df.time.str.split(\"T\",expand=True)\n",
        "df=df.drop(['time'],axis=1)\n",
        "df[['year','month','day']] = df.Date.str.split(\"-\",expand=True)\n",
        "df=df.drop(['Date'],axis=1)\n",
        "df[['time(hrs)','time(min)','time(sec)']] = df.Time.str.split(\":\",expand=True)\n",
        "df=df.drop(['Time'],axis=1)\n",
        "df['time(sec)'] = df['time(sec)'].map(lambda x: x.rstrip('Z'))\n",
        "print(df)"
      ],
      "execution_count": 60,
      "outputs": [
        {
          "output_type": "stream",
          "text": [
            "       latitude  longitude   depth  mag  ... day  time(hrs)  time(min)  time(sec)\n",
            "0       30.6505   131.0337   40.92  4.9  ...  19         20         28     41.575\n",
            "1       40.6017   142.1060   54.79  5.1  ...  19         06         21     33.937\n",
            "2       36.2728   140.8501   81.87  4.5  ...  19         00         23     40.577\n",
            "3       43.4320   145.8823  110.76  4.7  ...  18         11         54     17.077\n",
            "4       31.2373   130.3071  159.71  4.4  ...  17         20         17     19.817\n",
            "...         ...        ...     ...  ...  ...  ..        ...        ...        ...\n",
            "19331   42.9740   143.5680  126.80  4.1  ...  08         09         22     02.230\n",
            "19332   36.3180   141.0900   47.80  4.1  ...  06         09         35     17.680\n",
            "19333   44.4330   148.0160   90.10  4.7  ...  05         23         50     16.590\n",
            "19334   45.0160   149.0060   33.00  4.3  ...  03         23         16     59.940\n",
            "19335   44.3790   149.5160   33.00  5.4  ...  03         07         58     28.590\n",
            "\n",
            "[19336 rows x 24 columns]\n"
          ],
          "name": "stdout"
        }
      ]
    },
    {
      "cell_type": "code",
      "metadata": {
        "id": "YvjC2RK38QRx",
        "colab_type": "code",
        "colab": {
          "base_uri": "https://localhost:8080/",
          "height": 423
        },
        "outputId": "e655b02b-584d-4fa5-eef7-47e897b54319"
      },
      "source": [
        "Q1 = df.quantile(0.25)\n",
        "Q3 = df.quantile(0.75)\n",
        "IQR = Q3 - Q1\n",
        "print(((df < (Q1 - 1.5 * IQR)) | (df > (Q3 + 1.5 * IQR))).sum())"
      ],
      "execution_count": 61,
      "outputs": [
        {
          "output_type": "stream",
          "text": [
            "day                   0\n",
            "depth              2201\n",
            "depthError          877\n",
            "dmin                 73\n",
            "gap                2195\n",
            "horizontalError     104\n",
            "latitude              1\n",
            "locationSource        0\n",
            "longitude          2484\n",
            "mag                1569\n",
            "magError            173\n",
            "magNst             1823\n",
            "magSource             0\n",
            "magType               0\n",
            "month                 0\n",
            "net                   0\n",
            "place                 0\n",
            "rms                 379\n",
            "status                0\n",
            "time(hrs)             0\n",
            "time(min)             0\n",
            "time(sec)             0\n",
            "type                  0\n",
            "year                  0\n",
            "dtype: int64\n"
          ],
          "name": "stdout"
        }
      ]
    },
    {
      "cell_type": "code",
      "metadata": {
        "id": "lUY2Jy3i3FL_",
        "colab_type": "code",
        "colab": {}
      },
      "source": [
        "def remove_outlier(df_in, col_name):\n",
        "    q1 = df_in[col_name].quantile(0.25)\n",
        "    q3 = df_in[col_name].quantile(0.75)\n",
        "    iqr = q3-q1 #Interquartile range\n",
        "    fence_low  = q1-1.5*iqr\n",
        "    fence_high = q3+1.5*iqr\n",
        "    df_out = df_in.loc[(df_in[col_name] > fence_low) & (df_in[col_name] < fence_high)]\n",
        "    return df_out"
      ],
      "execution_count": 0,
      "outputs": []
    },
    {
      "cell_type": "code",
      "metadata": {
        "id": "sAUKqMng3KGQ",
        "colab_type": "code",
        "colab": {
          "base_uri": "https://localhost:8080/",
          "height": 423
        },
        "outputId": "436e176d-05b5-4d9c-f60e-69bf48197408"
      },
      "source": [
        "df=remove_outlier(df, 'depth')\n",
        "print(df.count())"
      ],
      "execution_count": 63,
      "outputs": [
        {
          "output_type": "stream",
          "text": [
            "latitude           17135\n",
            "longitude          17135\n",
            "depth              17135\n",
            "mag                17135\n",
            "magType            16620\n",
            "gap                16622\n",
            "dmin                4408\n",
            "rms                16441\n",
            "net                17135\n",
            "place              17135\n",
            "type               17135\n",
            "horizontalError     3554\n",
            "depthError         11454\n",
            "magError            4280\n",
            "magNst             13327\n",
            "status             17135\n",
            "locationSource     17135\n",
            "magSource          17135\n",
            "year               17135\n",
            "month              17135\n",
            "day                17135\n",
            "time(hrs)          17135\n",
            "time(min)          17135\n",
            "time(sec)          17135\n",
            "dtype: int64\n"
          ],
          "name": "stdout"
        }
      ]
    },
    {
      "cell_type": "code",
      "metadata": {
        "id": "Iwnl1rL4jL2B",
        "colab_type": "code",
        "outputId": "1f377cbc-d284-41ac-dc47-f189d1c326c1",
        "colab": {
          "base_uri": "https://localhost:8080/",
          "height": 911
        }
      },
      "source": [
        "print(df.isna().sum())\n",
        "a = df['gap'].median(skipna=True)\n",
        "b = df['rms'].median(skipna=True)\n",
        "df['gap'] = df['gap'].replace(np.nan, a)\n",
        "df['rms'] = df['rms'].replace(np.nan, b)\n",
        "i = df[(df.status != 'reviewed')].index\n",
        "df=df.drop(i, axis=0)\n",
        "df=df.drop(['net','type','horizontalError','depthError','magError','magNst','status','locationSource','magSource','dmin'], axis=1)\n",
        "df=remove_outlier(df, 'gap')\n",
        "df=remove_outlier(df, 'rms')\n",
        "print(df.isna().sum())\n",
        "print(df.count())"
      ],
      "execution_count": 64,
      "outputs": [
        {
          "output_type": "stream",
          "text": [
            "latitude               0\n",
            "longitude              0\n",
            "depth                  0\n",
            "mag                    0\n",
            "magType              515\n",
            "gap                  513\n",
            "dmin               12727\n",
            "rms                  694\n",
            "net                    0\n",
            "place                  0\n",
            "type                   0\n",
            "horizontalError    13581\n",
            "depthError          5681\n",
            "magError           12855\n",
            "magNst              3808\n",
            "status                 0\n",
            "locationSource         0\n",
            "magSource              0\n",
            "year                   0\n",
            "month                  0\n",
            "day                    0\n",
            "time(hrs)              0\n",
            "time(min)              0\n",
            "time(sec)              0\n",
            "dtype: int64\n",
            "latitude       0\n",
            "longitude      0\n",
            "depth          0\n",
            "mag            0\n",
            "magType      398\n",
            "gap            0\n",
            "rms            0\n",
            "place          0\n",
            "year           0\n",
            "month          0\n",
            "day            0\n",
            "time(hrs)      0\n",
            "time(min)      0\n",
            "time(sec)      0\n",
            "dtype: int64\n",
            "latitude     14169\n",
            "longitude    14169\n",
            "depth        14169\n",
            "mag          14169\n",
            "magType      13771\n",
            "gap          14169\n",
            "rms          14169\n",
            "place        14169\n",
            "year         14169\n",
            "month        14169\n",
            "day          14169\n",
            "time(hrs)    14169\n",
            "time(min)    14169\n",
            "time(sec)    14169\n",
            "dtype: int64\n"
          ],
          "name": "stdout"
        }
      ]
    },
    {
      "cell_type": "code",
      "metadata": {
        "id": "2dHPWzrf-hac",
        "colab_type": "code",
        "colab": {
          "base_uri": "https://localhost:8080/",
          "height": 191
        },
        "outputId": "f3cad113-e7ea-4ee2-8af7-78d0b2c7e6dc"
      },
      "source": [
        "df.head()"
      ],
      "execution_count": 65,
      "outputs": [
        {
          "output_type": "execute_result",
          "data": {
            "text/html": [
              "<div>\n",
              "<style scoped>\n",
              "    .dataframe tbody tr th:only-of-type {\n",
              "        vertical-align: middle;\n",
              "    }\n",
              "\n",
              "    .dataframe tbody tr th {\n",
              "        vertical-align: top;\n",
              "    }\n",
              "\n",
              "    .dataframe thead th {\n",
              "        text-align: right;\n",
              "    }\n",
              "</style>\n",
              "<table border=\"1\" class=\"dataframe\">\n",
              "  <thead>\n",
              "    <tr style=\"text-align: right;\">\n",
              "      <th></th>\n",
              "      <th>latitude</th>\n",
              "      <th>longitude</th>\n",
              "      <th>depth</th>\n",
              "      <th>mag</th>\n",
              "      <th>magType</th>\n",
              "      <th>gap</th>\n",
              "      <th>rms</th>\n",
              "      <th>place</th>\n",
              "      <th>year</th>\n",
              "      <th>month</th>\n",
              "      <th>day</th>\n",
              "      <th>time(hrs)</th>\n",
              "      <th>time(min)</th>\n",
              "      <th>time(sec)</th>\n",
              "    </tr>\n",
              "  </thead>\n",
              "  <tbody>\n",
              "    <tr>\n",
              "      <th>0</th>\n",
              "      <td>30.6505</td>\n",
              "      <td>131.0337</td>\n",
              "      <td>40.92</td>\n",
              "      <td>4.9</td>\n",
              "      <td>mb</td>\n",
              "      <td>128.0</td>\n",
              "      <td>0.68</td>\n",
              "      <td>9km SSE of Nishinoomote, Japan</td>\n",
              "      <td>2019</td>\n",
              "      <td>12</td>\n",
              "      <td>19</td>\n",
              "      <td>20</td>\n",
              "      <td>28</td>\n",
              "      <td>41.575</td>\n",
              "    </tr>\n",
              "    <tr>\n",
              "      <th>1</th>\n",
              "      <td>40.6017</td>\n",
              "      <td>142.1060</td>\n",
              "      <td>54.79</td>\n",
              "      <td>5.1</td>\n",
              "      <td>mww</td>\n",
              "      <td>82.0</td>\n",
              "      <td>0.84</td>\n",
              "      <td>52km ENE of Hachinohe, Japan</td>\n",
              "      <td>2019</td>\n",
              "      <td>12</td>\n",
              "      <td>19</td>\n",
              "      <td>06</td>\n",
              "      <td>21</td>\n",
              "      <td>33.937</td>\n",
              "    </tr>\n",
              "    <tr>\n",
              "      <th>2</th>\n",
              "      <td>36.2728</td>\n",
              "      <td>140.8501</td>\n",
              "      <td>81.87</td>\n",
              "      <td>4.5</td>\n",
              "      <td>mb</td>\n",
              "      <td>140.0</td>\n",
              "      <td>1.01</td>\n",
              "      <td>22km ESE of Oarai, Japan</td>\n",
              "      <td>2019</td>\n",
              "      <td>12</td>\n",
              "      <td>19</td>\n",
              "      <td>00</td>\n",
              "      <td>23</td>\n",
              "      <td>40.577</td>\n",
              "    </tr>\n",
              "    <tr>\n",
              "      <th>3</th>\n",
              "      <td>43.4320</td>\n",
              "      <td>145.8823</td>\n",
              "      <td>110.76</td>\n",
              "      <td>4.7</td>\n",
              "      <td>mb</td>\n",
              "      <td>133.0</td>\n",
              "      <td>0.70</td>\n",
              "      <td>27km ENE of Nemuro, Japan</td>\n",
              "      <td>2019</td>\n",
              "      <td>12</td>\n",
              "      <td>18</td>\n",
              "      <td>11</td>\n",
              "      <td>54</td>\n",
              "      <td>17.077</td>\n",
              "    </tr>\n",
              "    <tr>\n",
              "      <th>5</th>\n",
              "      <td>30.7427</td>\n",
              "      <td>142.2374</td>\n",
              "      <td>10.00</td>\n",
              "      <td>4.4</td>\n",
              "      <td>mb</td>\n",
              "      <td>151.0</td>\n",
              "      <td>0.92</td>\n",
              "      <td>Izu Islands, Japan region</td>\n",
              "      <td>2019</td>\n",
              "      <td>12</td>\n",
              "      <td>17</td>\n",
              "      <td>20</td>\n",
              "      <td>05</td>\n",
              "      <td>30.725</td>\n",
              "    </tr>\n",
              "  </tbody>\n",
              "</table>\n",
              "</div>"
            ],
            "text/plain": [
              "   latitude  longitude   depth  mag  ... day  time(hrs)  time(min) time(sec)\n",
              "0   30.6505   131.0337   40.92  4.9  ...  19         20         28    41.575\n",
              "1   40.6017   142.1060   54.79  5.1  ...  19         06         21    33.937\n",
              "2   36.2728   140.8501   81.87  4.5  ...  19         00         23    40.577\n",
              "3   43.4320   145.8823  110.76  4.7  ...  18         11         54    17.077\n",
              "5   30.7427   142.2374   10.00  4.4  ...  17         20         05    30.725\n",
              "\n",
              "[5 rows x 14 columns]"
            ]
          },
          "metadata": {
            "tags": []
          },
          "execution_count": 65
        }
      ]
    }
  ]
}