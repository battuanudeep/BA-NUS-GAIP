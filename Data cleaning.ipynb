{
  "nbformat": 4,
  "nbformat_minor": 0,
  "metadata": {
    "colab": {
      "name": "Untitled9.ipynb",
      "provenance": [],
      "collapsed_sections": [],
      "include_colab_link": true
    },
    "kernelspec": {
      "name": "python3",
      "display_name": "Python 3"
    }
  },
  "cells": [
    {
      "cell_type": "markdown",
      "metadata": {
        "id": "view-in-github",
        "colab_type": "text"
      },
      "source": [
        "<a href=\"https://colab.research.google.com/github/battuanudeep/BA-NUS-GAIP/blob/master/Data%20cleaning.ipynb\" target=\"_parent\"><img src=\"https://colab.research.google.com/assets/colab-badge.svg\" alt=\"Open In Colab\"/></a>"
      ]
    },
    {
      "cell_type": "code",
      "metadata": {
        "id": "y73CIZbpHYPP",
        "colab_type": "code",
        "outputId": "4b819d28-f6f6-4682-8d5a-52b3ba741159",
        "colab": {
          "base_uri": "https://localhost:8080/",
          "height": 33
        }
      },
      "source": [
        "from google.colab import drive\n",
        "drive.mount ('/gdrive')"
      ],
      "execution_count": 277,
      "outputs": [
        {
          "output_type": "stream",
          "text": [
            "Drive already mounted at /gdrive; to attempt to forcibly remount, call drive.mount(\"/gdrive\", force_remount=True).\n"
          ],
          "name": "stdout"
        }
      ]
    },
    {
      "cell_type": "code",
      "metadata": {
        "id": "LXDp1E54HshV",
        "colab_type": "code",
        "outputId": "6092cb6b-056b-43cb-aecd-b94b2b27599f",
        "colab": {
          "base_uri": "https://localhost:8080/",
          "height": 391
        }
      },
      "source": [
        "import pandas as pd\n",
        "import numpy as np\n",
        "df=pd.read_csv('/gdrive/My Drive/queryok.csv')"
      ],
      "execution_count": 278,
      "outputs": [
        {
          "output_type": "stream",
          "text": [
            "time               19336\n",
            "latitude           19336\n",
            "longitude          19336\n",
            "depth              19336\n",
            "mag                19336\n",
            "magType            18724\n",
            "nst                14247\n",
            "gap                18658\n",
            "dmin                5087\n",
            "rms                18515\n",
            "net                19336\n",
            "id                 19336\n",
            "updated            19336\n",
            "place              19336\n",
            "type               19336\n",
            "horizontalError     4116\n",
            "depthError         13326\n",
            "magError            4950\n",
            "magNst             15053\n",
            "status             19336\n",
            "locationSource     19336\n",
            "magSource          19336\n",
            "dtype: int64\n"
          ],
          "name": "stdout"
        }
      ]
    },
    {
      "cell_type": "code",
      "metadata": {
        "id": "uYDvsFUnHsks",
        "colab_type": "code",
        "colab": {}
      },
      "source": [
        "df=df.drop(['nst'],axis=1)\n",
        "df=df.drop(['id'],axis=1)\n",
        "df=df.drop(['updated'],axis=1)"
      ],
      "execution_count": 0,
      "outputs": []
    },
    {
      "cell_type": "code",
      "metadata": {
        "id": "ZLajvk_CUhDE",
        "colab_type": "code",
        "colab": {}
      },
      "source": [
        "df=df.dropna(subset = ['latitude', 'longitude'])"
      ],
      "execution_count": 0,
      "outputs": []
    },
    {
      "cell_type": "code",
      "metadata": {
        "id": "95QVS41yVX_w",
        "colab_type": "code",
        "colab": {
          "base_uri": "https://localhost:8080/",
          "height": 245
        },
        "outputId": "8709d95a-33b3-4716-c105-45561aab2df5"
      },
      "source": [
        "df[['Date','Time']] = df.time.str.split(\"T\",expand=True)\n",
        "df=df.drop(['time'],axis=1)\n",
        "df[['year','month','day']] = df.Date.str.split(\"-\",expand=True)\n",
        "df=df.drop(['Date'],axis=1)\n",
        "df[['time(hrs)','time(min)','time(sec)']] = df.Time.str.split(\":\",expand=True)\n",
        "df=df.drop(['Time'],axis=1)\n",
        "df['time(sec)'] = df['time(sec)'].map(lambda x: x.rstrip('Z'))\n",
        "print(df)"
      ],
      "execution_count": 281,
      "outputs": [
        {
          "output_type": "stream",
          "text": [
            "       latitude  longitude   depth  mag  ... day  time(hrs)  time(min)  time(sec)\n",
            "0       30.6505   131.0337   40.92  4.9  ...  19         20         28     41.575\n",
            "1       40.6017   142.1060   54.79  5.1  ...  19         06         21     33.937\n",
            "2       36.2728   140.8501   81.87  4.5  ...  19         00         23     40.577\n",
            "3       43.4320   145.8823  110.76  4.7  ...  18         11         54     17.077\n",
            "4       31.2373   130.3071  159.71  4.4  ...  17         20         17     19.817\n",
            "...         ...        ...     ...  ...  ...  ..        ...        ...        ...\n",
            "19331   42.9740   143.5680  126.80  4.1  ...  08         09         22     02.230\n",
            "19332   36.3180   141.0900   47.80  4.1  ...  06         09         35     17.680\n",
            "19333   44.4330   148.0160   90.10  4.7  ...  05         23         50     16.590\n",
            "19334   45.0160   149.0060   33.00  4.3  ...  03         23         16     59.940\n",
            "19335   44.3790   149.5160   33.00  5.4  ...  03         07         58     28.590\n",
            "\n",
            "[19336 rows x 24 columns]\n"
          ],
          "name": "stdout"
        }
      ]
    },
    {
      "cell_type": "code",
      "metadata": {
        "id": "Iwnl1rL4jL2B",
        "colab_type": "code",
        "colab": {
          "base_uri": "https://localhost:8080/",
          "height": 911
        },
        "outputId": "e254d4ff-22ea-43f4-e970-85e7c17d4bd1"
      },
      "source": [
        "print(df.isna().sum())\n",
        "a = df['gap'].median(skipna=True)\n",
        "b = df['rms'].median(skipna=True)\n",
        "df['gap'] = df['gap'].replace(np.nan, a)\n",
        "df['rms'] = df['rms'].replace(np.nan, b)\n",
        "i = df[(df.status != 'reviewed')].index\n",
        "df.drop(i, axis=0)\n",
        "df=df.drop(['net','type','horizontalError','depthError','magError','magNst','status','locationSource','magSource','dmin'], axis=1)\n",
        "print(df.isna().sum())\n",
        "print(df.count())\n"
      ],
      "execution_count": 282,
      "outputs": [
        {
          "output_type": "stream",
          "text": [
            "latitude               0\n",
            "longitude              0\n",
            "depth                  0\n",
            "mag                    0\n",
            "magType              612\n",
            "gap                  678\n",
            "dmin               14249\n",
            "rms                  821\n",
            "net                    0\n",
            "place                  0\n",
            "type                   0\n",
            "horizontalError    15220\n",
            "depthError          6010\n",
            "magError           14386\n",
            "magNst              4283\n",
            "status                 0\n",
            "locationSource         0\n",
            "magSource              0\n",
            "year                   0\n",
            "month                  0\n",
            "day                    0\n",
            "time(hrs)              0\n",
            "time(min)              0\n",
            "time(sec)              0\n",
            "dtype: int64\n",
            "latitude       0\n",
            "longitude      0\n",
            "depth          0\n",
            "mag            0\n",
            "magType      612\n",
            "gap            0\n",
            "rms            0\n",
            "place          0\n",
            "year           0\n",
            "month          0\n",
            "day            0\n",
            "time(hrs)      0\n",
            "time(min)      0\n",
            "time(sec)      0\n",
            "dtype: int64\n",
            "latitude     19336\n",
            "longitude    19336\n",
            "depth        19336\n",
            "mag          19336\n",
            "magType      18724\n",
            "gap          19336\n",
            "rms          19336\n",
            "place        19336\n",
            "year         19336\n",
            "month        19336\n",
            "day          19336\n",
            "time(hrs)    19336\n",
            "time(min)    19336\n",
            "time(sec)    19336\n",
            "dtype: int64\n"
          ],
          "name": "stdout"
        }
      ]
    }
  ]
}